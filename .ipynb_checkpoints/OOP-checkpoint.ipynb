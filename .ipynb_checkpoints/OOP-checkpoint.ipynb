{
 "cells": [
  {
   "cell_type": "code",
   "execution_count": 49,
   "id": "a451658a",
   "metadata": {},
   "outputs": [
    {
     "name": "stdout",
     "output_type": "stream",
     "text": [
      "Would you like to know about the Return on Investment(ROI) for a rental property?(Yes or No) yes\n",
      "Monthly income? 2000\n",
      "Property tax(monthly)? 150\n",
      "Insurance fee(monthly)? 100\n",
      "Utility fee per month? 0\n",
      "HOA(monthly)? 0\n",
      "Lawn/Snow fee? 0\n",
      "Vacancy fee? 100\n",
      "Monthly repairs? 100\n",
      "capital expenditures? 100\n",
      "Property management fee? 200\n",
      "Mortgage? 860\n",
      "Down payment? 40000\n",
      "Closing Costs? 3000\n",
      "Rehab budget? 7000\n",
      "Miscellaneous fees? 0\n",
      "Cash on cash ROI is 9.36%\n"
     ]
    }
   ],
   "source": [
    "class ROI():\n",
    "    def __init__(self, m_income, m_tax, m_insurance, m_util, m_hoa, m_lawn, m_vac, m_repairs,m_cap_exp,m_pro_man, m_mortgage, m_down_pay, m_closing, m_rehab, m_misc):\n",
    "#     def __init__(self):\n",
    "        self.m_income = m_income\n",
    "        self.m_tax = m_tax\n",
    "        self.m_insurance = m_insurance\n",
    "        self.m_vac = m_vac\n",
    "        self.m_util = m_util\n",
    "        self.m_hoa = m_hoa\n",
    "        self.m_lawn = m_lawn\n",
    "        self.m_repairs = m_repairs\n",
    "        self.cap_exp = m_cap_exp\n",
    "        self.m_pro_man = m_pro_man\n",
    "        self.m_mortgage = m_mortgage\n",
    "        self.m_down_pay = m_down_pay\n",
    "        self.m_closing = m_closing\n",
    "        self.m_rehab = m_rehab\n",
    "        self.m_misc = m_misc\n",
    "\n",
    "        self.investment = self.m_down_pay + self.m_closing + self.m_rehab +self.m_misc\n",
    "        self.monthly_expenses = self.m_tax + self.m_insurance + self.m_util + self.m_hoa +  self.m_lawn + self.m_vac + self.m_repairs + m_cap_exp + m_pro_man + self.m_mortgage\n",
    "        self.annual_cashflow = (self.m_income - self.monthly_expenses) *12\n",
    "\n",
    "\n",
    "    def CalROI(self):\n",
    "        self.roi = self.annual_cashflow/self.investment\n",
    "        print(f\"Cash on cash ROI is {self.roi*100}%\")\n",
    "        \n",
    "   \n",
    "# abc = ROI(2000,150,100,0,0,100,860,40000,3000,7000,0)\n",
    "\n",
    "def run():\n",
    "    abc.CalROI()\n",
    "\n",
    "response = input(\"Would you like to know about the Return on Investment(ROI) for a rental property?(Yes or No) \")\n",
    "if response.lower() == \"yes\":\n",
    "    m_income = int(input(\"Monthly income? \"))\n",
    "    m_tax = int(input(\"Property tax(monthly)? \"))\n",
    "    m_insurance = int(input(\"Insurance fee(monthly)? \"))\n",
    "    m_util = int(input(\"Utility fee per month? \"))\n",
    "    m_hoa = int(input(\"HOA(monthly)? \"))\n",
    "    m_lawn = int(input(\"Lawn/Snow fee? \"))\n",
    "    m_vac = int(input(\"Vacancy fee? \"))\n",
    "    m_repairs = int(input(\"Monthly repairs? \"))\n",
    "    m_cap_exp = int(input(\"capital expenditures? \"))\n",
    "    m_pro_man = int(input(\"Property management fee? \"))\n",
    "    m_mortgage = int(input(\"Mortgage? \"))\n",
    "    m_down_pay = int(input(\"Down payment? \"))\n",
    "    m_closing = int(input(\"Closing Costs? \"))\n",
    "    m_rehab = int(input(\"Rehab budget? \"))\n",
    "    m_misc = int(input(\"Miscellaneous fees? \"))\n",
    "    \n",
    "    abc = ROI(m_income,m_tax,m_insurance,m_util,m_hoa, m_lawn, m_vac,m_repairs,m_cap_exp, m_pro_man, m_mortgage,m_down_pay,m_closing,m_rehab,m_misc)\n",
    "    run()\n",
    "else:\n",
    "    print(\"Bye..\")\n",
    "\n"
   ]
  },
  {
   "cell_type": "code",
   "execution_count": null,
   "id": "0ea1c4fb",
   "metadata": {},
   "outputs": [],
   "source": []
  },
  {
   "cell_type": "code",
   "execution_count": null,
   "id": "6a3e1a0f",
   "metadata": {},
   "outputs": [],
   "source": []
  }
 ],
 "metadata": {
  "kernelspec": {
   "display_name": "Python 3 (ipykernel)",
   "language": "python",
   "name": "python3"
  },
  "language_info": {
   "codemirror_mode": {
    "name": "ipython",
    "version": 3
   },
   "file_extension": ".py",
   "mimetype": "text/x-python",
   "name": "python",
   "nbconvert_exporter": "python",
   "pygments_lexer": "ipython3",
   "version": "3.9.12"
  }
 },
 "nbformat": 4,
 "nbformat_minor": 5
}
